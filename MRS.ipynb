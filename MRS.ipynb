{
 "cells": [
  {
   "cell_type": "markdown",
   "metadata": {},
   "source": [
    "Step 1: Import Necessary Libraries"
   ]
  },
  {
   "cell_type": "code",
   "execution_count": 22,
   "metadata": {},
   "outputs": [],
   "source": [
    "import numpy as np\n",
    "import pandas as pd\n",
    "from sklearn.feature_extraction.text import TfidfVectorizer\n",
    "from sklearn.metrics.pairwise import cosine_similarity\n",
    "import pickle"
   ]
  },
  {
   "cell_type": "markdown",
   "metadata": {},
   "source": [
    "Step 2: Load Datasets"
   ]
  },
  {
   "cell_type": "code",
   "execution_count": 23,
   "metadata": {},
   "outputs": [],
   "source": [
    "movies_df = pd.read_csv('movies.csv')\n",
    "ratings_df = pd.read_csv('ratings.csv')"
   ]
  },
  {
   "cell_type": "markdown",
   "metadata": {},
   "source": [
    "Step 3: Preprocessing"
   ]
  },
  {
   "cell_type": "code",
   "execution_count": 24,
   "metadata": {},
   "outputs": [],
   "source": [
    "# Extract the release year from the movie title\n",
    "movies_df['release_year'] = movies_df['title'].str.extract(r'\\((\\d{4})\\)').astype(float)\n",
    "\n",
    "# Compute average ratings for each movie\n",
    "average_ratings = ratings_df.groupby('movieId')['rating'].mean().reset_index()\n",
    "average_ratings.rename(columns={'rating': 'average_rating'}, inplace=True)\n",
    "\n",
    "# Merge the movie data with their average ratings\n",
    "movies_with_ratings = pd.merge(movies_df, average_ratings, on='movieId', how='left')\n",
    "\n",
    "# Handle missing average ratings by filling with 0\n",
    "movies_with_ratings['average_rating'] = movies_with_ratings['average_rating'].fillna(0)\n",
    "\n",
    "# Preprocess 'genres' text for vectorization by cleaning special characters and converting to lowercase\n",
    "movies_with_ratings['processed_text'] = movies_with_ratings['genres'].str.lower().str.replace(r'[^\\w\\s]', '', regex=True)"
   ]
  },
  {
   "cell_type": "markdown",
   "metadata": {},
   "source": [
    "Step 4: Vectorize the Text Data"
   ]
  },
  {
   "cell_type": "code",
   "execution_count": 25,
   "metadata": {},
   "outputs": [],
   "source": [
    "# Initialize TfidfVectorizer\n",
    "vectorizer = TfidfVectorizer(max_features=10000)\n",
    "\n",
    "# Fit transform the genre text data\n",
    "sparse_X = vectorizer.fit_transform(movies_with_ratings['processed_text'])"
   ]
  },
  {
   "cell_type": "markdown",
   "metadata": {},
   "source": [
    "Step 5: Define Cosine Similarity Logic"
   ]
  },
  {
   "cell_type": "code",
   "execution_count": null,
   "metadata": {},
   "outputs": [],
   "source": [
    "def retrieve_similar_movies(query, k=20):\n",
    "    \"\"\"\n",
    "    Retrieve the top k most similar movies to the given query using cosine similarity\n",
    "    sorted by average rating and release year.\n",
    "    \"\"\"\n",
    "    # Transform the query string using the pre-fitted TF-IDF vectorizer\n",
    "    query_vec = vectorizer.transform([query])\n",
    "    \n",
    "    # Compute cosine similarity\n",
    "    cosine_sim = cosine_similarity(query_vec, sparse_X)  # Calculate similarity against all movies\n",
    "    \n",
    "    # Flatten the cosine similarity array to access all computed scores\n",
    "    similarity_scores = cosine_sim.flatten()\n",
    "    \n",
    "    # Attach similarity scores to the DataFrame\n",
    "    movies_with_ratings['similarity'] = similarity_scores\n",
    "\n",
    "    # Sort by similarity, average rating, and release year\n",
    "    sorted_movies = movies_with_ratings.sort_values(by=['similarity', 'average_rating', 'release_year'], \n",
    "                                                    ascending=[False, False, False])\n",
    "    \n",
    "    # Return the top k movies\n",
    "    return sorted_movies.head(k)"
   ]
  },
  {
   "cell_type": "markdown",
   "metadata": {},
   "source": [
    "Step 6: Test the Recommendation Logic"
   ]
  },
  {
   "cell_type": "code",
   "execution_count": 27,
   "metadata": {},
   "outputs": [
    {
     "name": "stdout",
     "output_type": "stream",
     "text": [
      "Movies similar to the query 'adventure':\n",
      "                                                 title              genres  \\\n",
      "15013                           Treasure Island (1934)           Adventure   \n",
      "27588                                Wolf Totem (2015)           Adventure   \n",
      "21357  Belle and Sebastien (Belle et Sébastien) (2013)           Adventure   \n",
      "13145                                Billy Budd (1962)           Adventure   \n",
      "60446                  The Peanut Butter Falcon (2019)           Adventure   \n",
      "...                                                ...                 ...   \n",
      "62071                           Tales of Found Footage  (no genres listed)   \n",
      "62104                                 Enduring Destiny  (no genres listed)   \n",
      "62285      Punk the Capital: Building a Sound Movement         Documentary   \n",
      "62326                     Yosemite: The Fate of Heaven  (no genres listed)   \n",
      "62380              The Falklands War: The Untold Story  (no genres listed)   \n",
      "\n",
      "       average_rating  release_year  similarity  \n",
      "15013             5.0        1934.0         1.0  \n",
      "27588             4.5        2015.0         1.0  \n",
      "21357             4.5        2013.0         1.0  \n",
      "13145             4.5        1962.0         1.0  \n",
      "60446             4.0        2019.0         1.0  \n",
      "...               ...           ...         ...  \n",
      "62071             0.0           NaN         0.0  \n",
      "62104             0.0           NaN         0.0  \n",
      "62285             0.0           NaN         0.0  \n",
      "62326             0.0           NaN         0.0  \n",
      "62380             0.0           NaN         0.0  \n",
      "\n",
      "[62423 rows x 5 columns]\n",
      "\n",
      "Movies similar to the query 'comedy':\n",
      "                                             title              genres  \\\n",
      "59879                                  Poms (2019)              Comedy   \n",
      "53474                             Candy Jar (2018)              Comedy   \n",
      "45833                        Punching Henry (2017)              Comedy   \n",
      "47893                      The Hippopotamus (2017)              Comedy   \n",
      "51429                             Permanent (2017)              Comedy   \n",
      "...                                            ...                 ...   \n",
      "62071                       Tales of Found Footage  (no genres listed)   \n",
      "62104                             Enduring Destiny  (no genres listed)   \n",
      "62285  Punk the Capital: Building a Sound Movement         Documentary   \n",
      "62326                 Yosemite: The Fate of Heaven  (no genres listed)   \n",
      "62380          The Falklands War: The Untold Story  (no genres listed)   \n",
      "\n",
      "       average_rating  release_year  similarity  \n",
      "59879             5.0        2019.0         1.0  \n",
      "53474             5.0        2018.0         1.0  \n",
      "45833             5.0        2017.0         1.0  \n",
      "47893             5.0        2017.0         1.0  \n",
      "51429             5.0        2017.0         1.0  \n",
      "...               ...           ...         ...  \n",
      "62071             0.0           NaN         0.0  \n",
      "62104             0.0           NaN         0.0  \n",
      "62285             0.0           NaN         0.0  \n",
      "62326             0.0           NaN         0.0  \n",
      "62380             0.0           NaN         0.0  \n",
      "\n",
      "[62423 rows x 5 columns]\n"
     ]
    }
   ],
   "source": [
    "# Example: Query with a test string\n",
    "query = 'adventure'\n",
    "similar_movies = retrieve_similar_movies(query)\n",
    "print(f\"Movies similar to the query '{query}':\")\n",
    "print(similar_movies[['title', 'genres', 'average_rating', 'release_year', 'similarity']])\n",
    "\n",
    "query = 'comedy'\n",
    "similar_movies = retrieve_similar_movies(query)\n",
    "print(f\"\\nMovies similar to the query '{query}':\")\n",
    "print(similar_movies[['title', 'genres', 'average_rating', 'release_year', 'similarity']])"
   ]
  },
  {
   "cell_type": "markdown",
   "metadata": {},
   "source": [
    "Step 7: Save Processed Data"
   ]
  },
  {
   "cell_type": "code",
   "execution_count": 28,
   "metadata": {},
   "outputs": [],
   "source": [
    "import pickle\n",
    "\n",
    "# Save the processed data\n",
    "with open('movies_with_ratings.pkl', 'wb') as f:\n",
    "    pickle.dump(movies_with_ratings, f)\n",
    "\n",
    "# Save the vectorizer\n",
    "with open('vectorizer.pkl', 'wb') as f:\n",
    "    pickle.dump(vectorizer, f)"
   ]
  }
 ],
 "metadata": {
  "kernelspec": {
   "display_name": "base",
   "language": "python",
   "name": "python3"
  },
  "language_info": {
   "codemirror_mode": {
    "name": "ipython",
    "version": 3
   },
   "file_extension": ".py",
   "mimetype": "text/x-python",
   "name": "python",
   "nbconvert_exporter": "python",
   "pygments_lexer": "ipython3",
   "version": "3.12.7"
  }
 },
 "nbformat": 4,
 "nbformat_minor": 2
}
